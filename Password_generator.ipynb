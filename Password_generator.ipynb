{
 "cells": [
  {
   "cell_type": "code",
   "execution_count": 2,
   "id": "c6218926-9a15-47bf-a34e-deef21a44713",
   "metadata": {},
   "outputs": [
    {
     "name": "stdin",
     "output_type": "stream",
     "text": [
      "Enter the desired length for the password (minimum 4):  8\n"
     ]
    },
    {
     "name": "stdout",
     "output_type": "stream",
     "text": [
      "Generated Password: d7G>iqi\\\n"
     ]
    }
   ],
   "source": [
    "import random\n",
    "import string\n",
    "\n",
    "def generate_password(length):\n",
    "    if length < 4:\n",
    "        return \"Password length should be at least 4 for complexity!\"\n",
    "    \n",
    "    # Define character sets\n",
    "    lower = string.ascii_lowercase  # a-z\n",
    "    upper = string.ascii_uppercase  # A-Z\n",
    "    digits = string.digits          # 0-9\n",
    "    symbols = string.punctuation    # Special characters\n",
    "\n",
    "    # Ensure the password contains at least one character from each category\n",
    "    password = [\n",
    "        random.choice(lower),\n",
    "        random.choice(upper),\n",
    "        random.choice(digits),\n",
    "        random.choice(symbols)\n",
    "    ]\n",
    "\n",
    "    # Fill the remaining characters randomly from all categories\n",
    "    all_chars = lower + upper + digits + symbols\n",
    "    password += random.choices(all_chars, k=length - 4)\n",
    "\n",
    "    # Shuffle to avoid predictable patterns\n",
    "    random.shuffle(password)\n",
    "    return ''.join(password)\n",
    "\n",
    "# Prompt user for the desired password length\n",
    "try:\n",
    "    user_length = int(input(\"Enter the desired length for the password (minimum 4): \"))\n",
    "    password = generate_password(user_length)\n",
    "    print(\"Generated Password:\", password)\n",
    "except ValueError:\n",
    "    print(\"Please enter a valid number.\")\n"
   ]
  },
  {
   "cell_type": "code",
   "execution_count": 2,
   "id": "be62d6cf-fdee-48fb-84d0-837e2956b75e",
   "metadata": {},
   "outputs": [
    {
     "name": "stdin",
     "output_type": "stream",
     "text": [
      "Enter the desired length for the password:  8\n",
      "Include lowercase letters? (y/n):  n\n",
      "Include uppercase letters? (y/n):  y\n",
      "Include digits? (y/n):  y\n",
      "Include special characters? (y/n):  y\n"
     ]
    },
    {
     "name": "stdout",
     "output_type": "stream",
     "text": [
      "\n",
      "Generated Password: PVNHW]6-\n"
     ]
    }
   ],
   "source": [
    "import random\n",
    "import string\n",
    "\n",
    "def generate_password(length, use_lower, use_upper, use_digits, use_symbols):\n",
    "    # Build the character pool based on user preferences\n",
    "    char_pool = \"\"\n",
    "    if use_lower:\n",
    "        char_pool += string.ascii_lowercase\n",
    "    if use_upper:\n",
    "        char_pool += string.ascii_uppercase\n",
    "    if use_digits:\n",
    "        char_pool += string.digits\n",
    "    if use_symbols:\n",
    "        char_pool += string.punctuation\n",
    "\n",
    "    # Ensure at least one character type is selected\n",
    "    if not char_pool:\n",
    "        return \"Error: No character types selected! Please enable at least one type.\"\n",
    "\n",
    "    # Generate a random password from the character pool\n",
    "    password = ''.join(random.choices(char_pool, k=length))\n",
    "    return password\n",
    "\n",
    "# Prompt the user for password length\n",
    "try:\n",
    "    length = int(input(\"Enter the desired length for the password: \"))\n",
    "    if length <= 0:\n",
    "        print(\"Password length must be greater than 0!\")\n",
    "    else:\n",
    "        # Ask the user which character types to include\n",
    "        use_lower = input(\"Include lowercase letters? (y/n): \").strip().lower() == 'y'\n",
    "        use_upper = input(\"Include uppercase letters? (y/n): \").strip().lower() == 'y'\n",
    "        use_digits = input(\"Include digits? (y/n): \").strip().lower() == 'y'\n",
    "        use_symbols = input(\"Include special characters? (y/n): \").strip().lower() == 'y'\n",
    "\n",
    "        # Generate and display the password\n",
    "        password = generate_password(length, use_lower, use_upper, use_digits, use_symbols)\n",
    "        print(\"\\nGenerated Password:\", password)\n",
    "except ValueError:\n",
    "    print(\"Invalid input! Please enter a valid number.\")\n"
   ]
  },
  {
   "cell_type": "code",
   "execution_count": null,
   "id": "9d9bfcc6-c5e4-4fae-96da-dfb5f8b74d2f",
   "metadata": {},
   "outputs": [],
   "source": []
  }
 ],
 "metadata": {
  "kernelspec": {
   "display_name": "Python 3 (ipykernel)",
   "language": "python",
   "name": "python3"
  },
  "language_info": {
   "codemirror_mode": {
    "name": "ipython",
    "version": 3
   },
   "file_extension": ".py",
   "mimetype": "text/x-python",
   "name": "python",
   "nbconvert_exporter": "python",
   "pygments_lexer": "ipython3",
   "version": "3.12.7"
  }
 },
 "nbformat": 4,
 "nbformat_minor": 5
}
