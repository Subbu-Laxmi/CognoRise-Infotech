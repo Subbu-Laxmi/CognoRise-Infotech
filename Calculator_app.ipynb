{
 "cells": [
  {
   "cell_type": "code",
   "execution_count": null,
   "id": "c6218926-9a15-47bf-a34e-deef21a44713",
   "metadata": {},
   "outputs": [],
   "source": [
    "import tkinter as tk\n",
    "\n",
    "def click(event):\n",
    "    global expression\n",
    "    text = event.widget.cget(\"text\")\n",
    "    if text == \"=\":\n",
    "        try:\n",
    "            result = eval(expression)\n",
    "            screen_var.set(result)\n",
    "            expression = str(result)\n",
    "        except Exception as e:\n",
    "            screen_var.set(\"Error\")\n",
    "            expression = \"\"\n",
    "    elif text == \"C\":\n",
    "        screen_var.set(\"\")\n",
    "        expression = \"\"\n",
    "    else:\n",
    "        expression += text\n",
    "        screen_var.set(expression)\n",
    "\n",
    "# Initialize the main window\n",
    "root = tk.Tk()\n",
    "root.title(\"Calculator\")\n",
    "root.geometry(\"400x500\")\n",
    "\n",
    "# Expression variable\n",
    "expression = \"\"\n",
    "\n",
    "screen_var = tk.StringVar()\n",
    "screen = tk.Entry(root, textvar=screen_var, font=\"Arial 20\", bd=10, relief=tk.SUNKEN, justify=tk.RIGHT)\n",
    "screen.pack(fill=tk.BOTH, padx=10, pady=10)\n",
    "\n",
    "# Button layout\n",
    "buttons = [\n",
    "    ['7', '8', '9', '/'],\n",
    "    ['4', '5', '6', '*'],\n",
    "    ['1', '2', '3', '-'],\n",
    "    ['C', '0', '=', '+']\n",
    "]\n",
    "\n",
    "# Add buttons to the grid\n",
    "for row in buttons:\n",
    "    frame = tk.Frame(root)\n",
    "    frame.pack(expand=True, fill=tk.BOTH)\n",
    "    for btn_text in row:\n",
    "        button = tk.Button(frame, text=btn_text, font=\"Arial 18\", relief=tk.RAISED)\n",
    "        button.pack(side=tk.LEFT, expand=True, fill=tk.BOTH, padx=5, pady=5)\n",
    "        button.bind(\"<Button-1>\", click)\n",
    "\n",
    "# Start the main event loop\n",
    "root.mainloop()"
   ]
  },
  {
   "cell_type": "code",
   "execution_count": null,
   "id": "be62d6cf-fdee-48fb-84d0-837e2956b75e",
   "metadata": {},
   "outputs": [],
   "source": []
  }
 ],
 "metadata": {
  "kernelspec": {
   "display_name": "Python 3 (ipykernel)",
   "language": "python",
   "name": "python3"
  },
  "language_info": {
   "codemirror_mode": {
    "name": "ipython",
    "version": 3
   },
   "file_extension": ".py",
   "mimetype": "text/x-python",
   "name": "python",
   "nbconvert_exporter": "python",
   "pygments_lexer": "ipython3",
   "version": "3.12.7"
  }
 },
 "nbformat": 4,
 "nbformat_minor": 5
}
